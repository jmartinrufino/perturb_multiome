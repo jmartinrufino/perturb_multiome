{
 "cells": [
  {
   "cell_type": "markdown",
   "metadata": {},
   "source": [
    "Import packages"
   ]
  },
  {
   "cell_type": "code",
   "execution_count": 1,
   "metadata": {},
   "outputs": [
    {
     "name": "stderr",
     "output_type": "stream",
     "text": [
      "\n",
      "Attaching package: ‘dplyr’\n",
      "\n",
      "\n",
      "The following objects are masked from ‘package:stats’:\n",
      "\n",
      "    filter, lag\n",
      "\n",
      "\n",
      "The following objects are masked from ‘package:base’:\n",
      "\n",
      "    intersect, setdiff, setequal, union\n",
      "\n",
      "\n",
      "Loading required package: SeuratObject\n",
      "\n",
      "Loading required package: sp\n",
      "\n",
      "\n",
      "Attaching package: ‘SeuratObject’\n",
      "\n",
      "\n",
      "The following object is masked from ‘package:base’:\n",
      "\n",
      "    intersect\n",
      "\n",
      "\n"
     ]
    }
   ],
   "source": [
    "library(dplyr)\n",
    "library(Seurat)\n",
    "options(Seurat.object.assay.version = 'v3') "
   ]
  },
  {
   "cell_type": "markdown",
   "metadata": {},
   "source": [
    "Import RNA matrices"
   ]
  },
  {
   "cell_type": "code",
   "execution_count": 2,
   "metadata": {},
   "outputs": [
    {
     "name": "stdout",
     "output_type": "stream",
     "text": [
      "[1] 1\n"
     ]
    },
    {
     "name": "stderr",
     "output_type": "stream",
     "text": [
      "Genome matrix has multiple modalities, returning a list of matrices for this genome\n",
      "\n"
     ]
    },
    {
     "name": "stdout",
     "output_type": "stream",
     "text": [
      "[1] 2\n"
     ]
    },
    {
     "name": "stderr",
     "output_type": "stream",
     "text": [
      "Genome matrix has multiple modalities, returning a list of matrices for this genome\n",
      "\n"
     ]
    },
    {
     "name": "stdout",
     "output_type": "stream",
     "text": [
      "[1] 3\n"
     ]
    },
    {
     "name": "stderr",
     "output_type": "stream",
     "text": [
      "Genome matrix has multiple modalities, returning a list of matrices for this genome\n",
      "\n"
     ]
    },
    {
     "name": "stdout",
     "output_type": "stream",
     "text": [
      "[1] 4\n"
     ]
    },
    {
     "name": "stderr",
     "output_type": "stream",
     "text": [
      "Genome matrix has multiple modalities, returning a list of matrices for this genome\n",
      "\n"
     ]
    },
    {
     "name": "stdout",
     "output_type": "stream",
     "text": [
      "[1] 5\n"
     ]
    },
    {
     "name": "stderr",
     "output_type": "stream",
     "text": [
      "Genome matrix has multiple modalities, returning a list of matrices for this genome\n",
      "\n"
     ]
    },
    {
     "name": "stdout",
     "output_type": "stream",
     "text": [
      "[1] 6\n"
     ]
    },
    {
     "name": "stderr",
     "output_type": "stream",
     "text": [
      "Genome matrix has multiple modalities, returning a list of matrices for this genome\n",
      "\n"
     ]
    },
    {
     "name": "stdout",
     "output_type": "stream",
     "text": [
      "[1] 7\n"
     ]
    },
    {
     "name": "stderr",
     "output_type": "stream",
     "text": [
      "Genome matrix has multiple modalities, returning a list of matrices for this genome\n",
      "\n"
     ]
    },
    {
     "name": "stdout",
     "output_type": "stream",
     "text": [
      "[1] 8\n"
     ]
    },
    {
     "name": "stderr",
     "output_type": "stream",
     "text": [
      "Genome matrix has multiple modalities, returning a list of matrices for this genome\n",
      "\n"
     ]
    },
    {
     "name": "stdout",
     "output_type": "stream",
     "text": [
      "[1] 9\n"
     ]
    },
    {
     "name": "stderr",
     "output_type": "stream",
     "text": [
      "Genome matrix has multiple modalities, returning a list of matrices for this genome\n",
      "\n"
     ]
    },
    {
     "name": "stdout",
     "output_type": "stream",
     "text": [
      "[1] 10\n"
     ]
    },
    {
     "name": "stderr",
     "output_type": "stream",
     "text": [
      "Genome matrix has multiple modalities, returning a list of matrices for this genome\n",
      "\n"
     ]
    },
    {
     "name": "stdout",
     "output_type": "stream",
     "text": [
      "[1] 11\n"
     ]
    },
    {
     "name": "stderr",
     "output_type": "stream",
     "text": [
      "Genome matrix has multiple modalities, returning a list of matrices for this genome\n",
      "\n"
     ]
    },
    {
     "name": "stdout",
     "output_type": "stream",
     "text": [
      "[1] 12\n"
     ]
    },
    {
     "name": "stderr",
     "output_type": "stream",
     "text": [
      "Genome matrix has multiple modalities, returning a list of matrices for this genome\n",
      "\n"
     ]
    },
    {
     "name": "stdout",
     "output_type": "stream",
     "text": [
      "[1] 13\n"
     ]
    },
    {
     "name": "stderr",
     "output_type": "stream",
     "text": [
      "Genome matrix has multiple modalities, returning a list of matrices for this genome\n",
      "\n"
     ]
    },
    {
     "name": "stdout",
     "output_type": "stream",
     "text": [
      "[1] 14\n"
     ]
    },
    {
     "name": "stderr",
     "output_type": "stream",
     "text": [
      "Genome matrix has multiple modalities, returning a list of matrices for this genome\n",
      "\n"
     ]
    },
    {
     "name": "stdout",
     "output_type": "stream",
     "text": [
      "[1] 15\n"
     ]
    },
    {
     "name": "stderr",
     "output_type": "stream",
     "text": [
      "Genome matrix has multiple modalities, returning a list of matrices for this genome\n",
      "\n"
     ]
    },
    {
     "name": "stdout",
     "output_type": "stream",
     "text": [
      "[1] 16\n"
     ]
    },
    {
     "name": "stderr",
     "output_type": "stream",
     "text": [
      "Genome matrix has multiple modalities, returning a list of matrices for this genome\n",
      "\n"
     ]
    }
   ],
   "source": [
    "for (sample in c(1:16)){\n",
    "    print(sample)\n",
    "assign(paste(\"sample_\",sample,sep=''),Read10X_h5(paste0(\"~/github_reproducibility/rna_atac_filtered_feature_bc_matrix_\",sample,\".h5\",sep='')))\n",
    "}\n"
   ]
  },
  {
   "cell_type": "markdown",
   "metadata": {},
   "source": [
    "Import CROP-seq vector counts:"
   ]
  },
  {
   "cell_type": "code",
   "execution_count": 3,
   "metadata": {},
   "outputs": [
    {
     "name": "stdout",
     "output_type": "stream",
     "text": [
      "[1] 1\n"
     ]
    },
    {
     "name": "stderr",
     "output_type": "stream",
     "text": [
      "Genome matrix has multiple modalities, returning a list of matrices for this genome\n",
      "\n"
     ]
    },
    {
     "name": "stdout",
     "output_type": "stream",
     "text": [
      "[1] 2\n"
     ]
    },
    {
     "name": "stderr",
     "output_type": "stream",
     "text": [
      "Genome matrix has multiple modalities, returning a list of matrices for this genome\n",
      "\n"
     ]
    },
    {
     "name": "stdout",
     "output_type": "stream",
     "text": [
      "[1] 3\n"
     ]
    },
    {
     "name": "stderr",
     "output_type": "stream",
     "text": [
      "Genome matrix has multiple modalities, returning a list of matrices for this genome\n",
      "\n"
     ]
    },
    {
     "name": "stdout",
     "output_type": "stream",
     "text": [
      "[1] 4\n"
     ]
    },
    {
     "name": "stderr",
     "output_type": "stream",
     "text": [
      "Genome matrix has multiple modalities, returning a list of matrices for this genome\n",
      "\n"
     ]
    },
    {
     "name": "stdout",
     "output_type": "stream",
     "text": [
      "[1] 5\n"
     ]
    },
    {
     "name": "stderr",
     "output_type": "stream",
     "text": [
      "Genome matrix has multiple modalities, returning a list of matrices for this genome\n",
      "\n"
     ]
    },
    {
     "name": "stdout",
     "output_type": "stream",
     "text": [
      "[1] 6\n"
     ]
    },
    {
     "name": "stderr",
     "output_type": "stream",
     "text": [
      "Genome matrix has multiple modalities, returning a list of matrices for this genome\n",
      "\n"
     ]
    },
    {
     "name": "stdout",
     "output_type": "stream",
     "text": [
      "[1] 7\n"
     ]
    },
    {
     "name": "stderr",
     "output_type": "stream",
     "text": [
      "Genome matrix has multiple modalities, returning a list of matrices for this genome\n",
      "\n"
     ]
    },
    {
     "name": "stdout",
     "output_type": "stream",
     "text": [
      "[1] 8\n"
     ]
    },
    {
     "name": "stderr",
     "output_type": "stream",
     "text": [
      "Genome matrix has multiple modalities, returning a list of matrices for this genome\n",
      "\n"
     ]
    },
    {
     "name": "stdout",
     "output_type": "stream",
     "text": [
      "[1] 9\n"
     ]
    },
    {
     "name": "stderr",
     "output_type": "stream",
     "text": [
      "Genome matrix has multiple modalities, returning a list of matrices for this genome\n",
      "\n"
     ]
    },
    {
     "name": "stdout",
     "output_type": "stream",
     "text": [
      "[1] 10\n"
     ]
    },
    {
     "name": "stderr",
     "output_type": "stream",
     "text": [
      "Genome matrix has multiple modalities, returning a list of matrices for this genome\n",
      "\n"
     ]
    },
    {
     "name": "stdout",
     "output_type": "stream",
     "text": [
      "[1] 11\n"
     ]
    },
    {
     "name": "stderr",
     "output_type": "stream",
     "text": [
      "Genome matrix has multiple modalities, returning a list of matrices for this genome\n",
      "\n"
     ]
    },
    {
     "name": "stdout",
     "output_type": "stream",
     "text": [
      "[1] 12\n"
     ]
    },
    {
     "name": "stderr",
     "output_type": "stream",
     "text": [
      "Genome matrix has multiple modalities, returning a list of matrices for this genome\n",
      "\n"
     ]
    },
    {
     "name": "stdout",
     "output_type": "stream",
     "text": [
      "[1] 13\n"
     ]
    },
    {
     "name": "stderr",
     "output_type": "stream",
     "text": [
      "Genome matrix has multiple modalities, returning a list of matrices for this genome\n",
      "\n"
     ]
    },
    {
     "name": "stdout",
     "output_type": "stream",
     "text": [
      "[1] 14\n"
     ]
    },
    {
     "name": "stderr",
     "output_type": "stream",
     "text": [
      "Genome matrix has multiple modalities, returning a list of matrices for this genome\n",
      "\n"
     ]
    },
    {
     "name": "stdout",
     "output_type": "stream",
     "text": [
      "[1] 15\n"
     ]
    },
    {
     "name": "stderr",
     "output_type": "stream",
     "text": [
      "Genome matrix has multiple modalities, returning a list of matrices for this genome\n",
      "\n"
     ]
    },
    {
     "name": "stdout",
     "output_type": "stream",
     "text": [
      "[1] 16\n"
     ]
    },
    {
     "name": "stderr",
     "output_type": "stream",
     "text": [
      "Genome matrix has multiple modalities, returning a list of matrices for this genome\n",
      "\n"
     ]
    }
   ],
   "source": [
    "for (sample in c(1:16)){\n",
    "    print(sample)\n",
    "assign(paste(\"dialout_\",sample,sep=''),Read10X_h5(paste0(\"~/github_reproducibility/filtered_feature_bc_matrix_\",sample,\".h5\",sep='')))\n",
    "}\n"
   ]
  },
  {
   "cell_type": "code",
   "execution_count": 4,
   "metadata": {},
   "outputs": [],
   "source": [
    "for (sample in c(1:16)){\n",
    "assign(paste(\"seurat_sample_\",sample,sep=''),CreateSeuratObject(get(paste0(\"sample_\",sample,sep=''))$'Gene Expression'))\n",
    "assign(paste(\"atac_sample_\",sample,sep=''),CreateAssayObject(get(paste0(\"sample_\",sample,sep=''))$Peaks))\n",
    "assign(paste(\"cropseq_sample_\",sample,sep=''),CreateAssayObject(get(paste0(\"dialout_\",sample,sep=''))$'CRISPR Guide Capture'))\n",
    "\n",
    "   \n",
    "}\n"
   ]
  },
  {
   "cell_type": "markdown",
   "metadata": {},
   "source": [
    "Identify common cells in RNA/ATAC and crop-seq"
   ]
  },
  {
   "cell_type": "code",
   "execution_count": 5,
   "metadata": {},
   "outputs": [],
   "source": [
    "common_cells_1=intersect(colnames(seurat_sample_1),colnames(cropseq_sample_1))\n",
    "common_cells_2=intersect(colnames(seurat_sample_2),colnames(cropseq_sample_2))\n",
    "common_cells_3=intersect(colnames(seurat_sample_3),colnames(cropseq_sample_3))\n",
    "common_cells_4=intersect(colnames(seurat_sample_4),colnames(cropseq_sample_4))\n",
    "\n",
    "common_cells_5=intersect(colnames(seurat_sample_5),colnames(cropseq_sample_5))\n",
    "common_cells_6=intersect(colnames(seurat_sample_6),colnames(cropseq_sample_6))\n",
    "common_cells_7=intersect(colnames(seurat_sample_7),colnames(cropseq_sample_7))\n",
    "common_cells_8=intersect(colnames(seurat_sample_8),colnames(cropseq_sample_8))\n",
    "\n",
    "common_cells_9=intersect(colnames(seurat_sample_9),colnames(cropseq_sample_9))\n",
    "common_cells_10=intersect(colnames(seurat_sample_10),colnames(cropseq_sample_10))\n",
    "common_cells_11=intersect(colnames(seurat_sample_11),colnames(cropseq_sample_11))\n",
    "common_cells_12=intersect(colnames(seurat_sample_12),colnames(cropseq_sample_12))\n",
    "\n",
    "common_cells_13=intersect(colnames(seurat_sample_13),colnames(cropseq_sample_13))\n",
    "common_cells_14=intersect(colnames(seurat_sample_14),colnames(cropseq_sample_14))\n",
    "common_cells_15=intersect(colnames(seurat_sample_15),colnames(cropseq_sample_15))\n",
    "common_cells_16=intersect(colnames(seurat_sample_16),colnames(cropseq_sample_16))"
   ]
  },
  {
   "cell_type": "code",
   "execution_count": 6,
   "metadata": {},
   "outputs": [],
   "source": [
    "seurat_sample_1[['atac']]=atac_sample_1\n",
    "seurat_sample_2[['atac']]=atac_sample_2\n",
    "seurat_sample_3[['atac']]=atac_sample_3\n",
    "seurat_sample_4[['atac']]=atac_sample_4\n",
    "\n",
    "seurat_sample_5[['atac']]=atac_sample_5\n",
    "seurat_sample_6[['atac']]=atac_sample_6\n",
    "seurat_sample_7[['atac']]=atac_sample_7\n",
    "seurat_sample_8[['atac']]=atac_sample_8\n",
    "\n",
    "seurat_sample_9[['atac']]=atac_sample_9\n",
    "seurat_sample_10[['atac']]=atac_sample_10\n",
    "seurat_sample_11[['atac']]=atac_sample_11\n",
    "seurat_sample_12[['atac']]=atac_sample_12\n",
    "\n",
    "seurat_sample_13[['atac']]=atac_sample_13\n",
    "seurat_sample_14[['atac']]=atac_sample_14\n",
    "seurat_sample_15[['atac']]=atac_sample_15\n",
    "seurat_sample_16[['atac']]=atac_sample_16"
   ]
  },
  {
   "cell_type": "code",
   "execution_count": 7,
   "metadata": {},
   "outputs": [],
   "source": [
    "seurat_sample_1=seurat_sample_1[,common_cells_1]\n",
    "seurat_sample_2=seurat_sample_2[,common_cells_2]\n",
    "seurat_sample_3=seurat_sample_3[,common_cells_3]\n",
    "seurat_sample_4=seurat_sample_4[,common_cells_4]\n",
    "\n",
    "seurat_sample_5=seurat_sample_5[,common_cells_5]\n",
    "seurat_sample_6=seurat_sample_6[,common_cells_6]\n",
    "seurat_sample_7=seurat_sample_7[,common_cells_7]\n",
    "seurat_sample_8=seurat_sample_8[,common_cells_8]\n",
    "\n",
    "seurat_sample_9=seurat_sample_9[,common_cells_9]\n",
    "seurat_sample_10=seurat_sample_10[,common_cells_10]\n",
    "seurat_sample_11=seurat_sample_11[,common_cells_11]\n",
    "seurat_sample_12=seurat_sample_12[,common_cells_12]\n",
    "\n",
    "seurat_sample_13=seurat_sample_13[,common_cells_13]\n",
    "seurat_sample_14=seurat_sample_14[,common_cells_14]\n",
    "seurat_sample_15=seurat_sample_15[,common_cells_15]\n",
    "seurat_sample_16=seurat_sample_16[,common_cells_16]"
   ]
  },
  {
   "cell_type": "code",
   "execution_count": 8,
   "metadata": {},
   "outputs": [],
   "source": [
    "seurat_sample_1[['cropseq']]=CreateAssayObject(cropseq_sample_1@counts[,common_cells_1])\n",
    "seurat_sample_2[['cropseq']]=CreateAssayObject(cropseq_sample_2@counts[,common_cells_2])\n",
    "seurat_sample_3[['cropseq']]=CreateAssayObject(cropseq_sample_3@counts[,common_cells_3])\n",
    "seurat_sample_4[['cropseq']]=CreateAssayObject(cropseq_sample_4@counts[,common_cells_4])\n",
    "\n",
    "seurat_sample_5[['cropseq']]=CreateAssayObject(cropseq_sample_5@counts[,common_cells_5])\n",
    "seurat_sample_6[['cropseq']]=CreateAssayObject(cropseq_sample_6@counts[,common_cells_6])\n",
    "seurat_sample_7[['cropseq']]=CreateAssayObject(cropseq_sample_7@counts[,common_cells_7])\n",
    "seurat_sample_8[['cropseq']]=CreateAssayObject(cropseq_sample_8@counts[,common_cells_8])\n",
    "\n",
    "seurat_sample_9[['cropseq']]=CreateAssayObject(cropseq_sample_9@counts[,common_cells_9])\n",
    "seurat_sample_10[['cropseq']]=CreateAssayObject(cropseq_sample_10@counts[,common_cells_10])\n",
    "seurat_sample_11[['cropseq']]=CreateAssayObject(cropseq_sample_11@counts[,common_cells_11])\n",
    "seurat_sample_12[['cropseq']]=CreateAssayObject(cropseq_sample_12@counts[,common_cells_12])\n",
    "\n",
    "seurat_sample_13[['cropseq']]=CreateAssayObject(cropseq_sample_13@counts[,common_cells_13])\n",
    "seurat_sample_14[['cropseq']]=CreateAssayObject(cropseq_sample_14@counts[,common_cells_14])\n",
    "seurat_sample_15[['cropseq']]=CreateAssayObject(cropseq_sample_15@counts[,common_cells_15])\n",
    "seurat_sample_16[['cropseq']]=CreateAssayObject(cropseq_sample_16@counts[,common_cells_16])"
   ]
  },
  {
   "cell_type": "code",
   "execution_count": 9,
   "metadata": {},
   "outputs": [],
   "source": [
    "# Merge Seurat objects\n",
    "merged_seurat <- merge(seurat_sample_1,\n",
    "                       c(seurat_sample_2,\n",
    "                         seurat_sample_3,\n",
    "                         seurat_sample_4,\n",
    "                         seurat_sample_5,\n",
    "                         seurat_sample_6,\n",
    "                         seurat_sample_7,\n",
    "                         seurat_sample_8,\n",
    "                         seurat_sample_9,\n",
    "                         seurat_sample_10,\n",
    "                         seurat_sample_11,\n",
    "                         seurat_sample_12,\n",
    "                        seurat_sample_13,\n",
    "                        seurat_sample_14,\n",
    "                        seurat_sample_15,\n",
    "                        seurat_sample_16),add.cell.ids = c(\"rep1\", \"rep2\",\n",
    "                                                          \"rep3\",\n",
    "                                                          \"rep4\",\n",
    "                                                          \"rep5\",\n",
    "                                                          \"rep6\",\n",
    "                                                          \"rep7\",\n",
    "                                                          \"rep8\",\n",
    "                                                          \"rep9\",\n",
    "                                                          \"rep10\",\n",
    "                                                          \"rep11\",\n",
    "                                                          \"rep12\",\n",
    "                                                          \"rep13\",\n",
    "                                                          \"rep14\",\n",
    "                                                          \"rep15\",\n",
    "                                                          \"rep16\"))"
   ]
  },
  {
   "cell_type": "code",
   "execution_count": 10,
   "metadata": {},
   "outputs": [],
   "source": [
    "seurat_obj_merged_dominant_perturbation=merged_seurat"
   ]
  },
  {
   "cell_type": "code",
   "execution_count": 11,
   "metadata": {
    "code_folding": []
   },
   "outputs": [],
   "source": [
    "top_perturbation_per_cell_scrnaseq=colnames(t(as.matrix(seurat_obj_merged_dominant_perturbation@assays$cropseq@counts))\n",
    ")[max.col(t(as.matrix(seurat_obj_merged_dominant_perturbation@assays$cropseq@counts))\n",
    ",ties.method=\"first\")]\n",
    "seurat_obj_merged_dominant_perturbation@meta.data$perturbation <- top_perturbation_per_cell_scrnaseq\n",
    "\n"
   ]
  },
  {
   "cell_type": "code",
   "execution_count": 12,
   "metadata": {},
   "outputs": [],
   "source": [
    "seurat_obj_merged_dominant_perturbation@meta.data=seurat_obj_merged_dominant_perturbation@meta.data %>%\n",
    "mutate(perturbation = ifelse(nCount_cropseq > 0, perturbation, NA))\n",
    "\n"
   ]
  },
  {
   "cell_type": "code",
   "execution_count": 13,
   "metadata": {},
   "outputs": [],
   "source": [
    "saveRDS(seurat_obj_merged_dominant_perturbation,\"~/github_reproducibility/merged_seurat_object_step1_all_reps.RDS\")\n",
    "\n"
   ]
  }
 ],
 "metadata": {
  "kernelspec": {
   "display_name": "R",
   "language": "R",
   "name": "ir"
  },
  "language_info": {
   "codemirror_mode": "r",
   "file_extension": ".r",
   "mimetype": "text/x-r-source",
   "name": "R",
   "pygments_lexer": "r",
   "version": "4.3.2"
  },
  "toc": {
   "base_numbering": 1,
   "nav_menu": {},
   "number_sections": true,
   "sideBar": true,
   "skip_h1_title": false,
   "title_cell": "Table of Contents",
   "title_sidebar": "Contents",
   "toc_cell": false,
   "toc_position": {},
   "toc_section_display": true,
   "toc_window_display": false
  }
 },
 "nbformat": 4,
 "nbformat_minor": 2
}
