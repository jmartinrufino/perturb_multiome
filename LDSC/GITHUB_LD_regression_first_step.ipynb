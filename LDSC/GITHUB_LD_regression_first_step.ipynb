{
 "cells": [
  {
   "cell_type": "markdown",
   "metadata": {},
   "source": [
    "Define initial variables here"
   ]
  },
  {
   "cell_type": "code",
   "execution_count": null,
   "metadata": {},
   "outputs": [],
   "source": [
    "# run in terminal\n",
    "mkdir /home/jupyter/github_reproducibility/TF_sensitive_peaks/"
   ]
  },
  {
   "cell_type": "code",
   "execution_count": null,
   "metadata": {},
   "outputs": [],
   "source": [
    "output_name='/home/jupyter/github_reproducibility/TF_sensitive_peaks/TF_sensitive_peaks_new_definition.bed'\n"
   ]
  },
  {
   "cell_type": "markdown",
   "metadata": {},
   "source": [
    "Importing libraries"
   ]
  },
  {
   "cell_type": "code",
   "execution_count": null,
   "metadata": {},
   "outputs": [],
   "source": [
    "library(GenomicRanges)\n",
    "library(data.table)\n",
    "library(dplyr)\n",
    "library(SummarizedExperiment)\n",
    "library(Matrix)\n",
    "library(diffloop)\n",
    "library(rtracklayer)\n",
    "#BiocParallel::register(BiocParallel::MulticoreParam(4, progressbar = FALSE))\n",
    "\n",
    "`%notin%` <- Negate(`%in%`)"
   ]
  },
  {
   "cell_type": "code",
   "execution_count": null,
   "metadata": {},
   "outputs": [],
   "source": [
    "combined_DAP_JAN_028_ATAC=fread(\"~/github_reproducibility/table_S2.csv\")\n",
    "all_gene_ids=unique(combined_DAP_JAN_028_ATAC %>%\n",
    "filter(p_weight < 0.05 / 230000)%>%\n",
    "pull(gene_ID))\n"
   ]
  },
  {
   "cell_type": "code",
   "execution_count": null,
   "metadata": {},
   "outputs": [],
   "source": [
    "length(all_gene_ids)"
   ]
  },
  {
   "cell_type": "code",
   "execution_count": null,
   "metadata": {},
   "outputs": [],
   "source": [
    "output_file <- output_name\n",
    "\n",
    "data=all_gene_ids\n",
    "\n",
    "data=data.frame(data)\n",
    "colnames(data)='V2'\n",
    "\n",
    "bed_data <- data.frame(Chromosome=character(), Start=integer(), End=integer(), stringsAsFactors=FALSE)\n",
    "\n",
    "for (i in 1:nrow(data)) {\n",
    "  splits <- unlist(strsplit(data$V2[i], \"-\"))\n",
    "  bed_data <- rbind(bed_data, data.frame(Chromosome=splits[1], Start=as.integer(splits[2]), End=as.integer(splits[3]), stringsAsFactors=FALSE))\n",
    "}\n",
    "\n",
    "write.table(bed_data, output_file, sep = \"\\t\", quote = FALSE, row.names = FALSE, col.names = FALSE)\n",
    "head(bed_data)"
   ]
  },
  {
   "cell_type": "code",
   "execution_count": null,
   "metadata": {},
   "outputs": [],
   "source": [
    "bed_df <- read.table(output_name, header = FALSE, stringsAsFactors = FALSE)\n",
    "bed_df <- bed_df[!is.na(bed_df$V3), ]\n",
    "output_file <- output_name\n",
    "write.table(bed_df, output_file, sep = \"\\t\", quote = FALSE, row.names = FALSE, col.names = FALSE)\n",
    "\n"
   ]
  },
  {
   "cell_type": "markdown",
   "metadata": {},
   "source": [
    "Copy the file and upload to the UCSC liftover website (https://genome.ucsc.edu/cgi-bin/hgLiftOver). After running it, copy the file back here."
   ]
  },
  {
   "cell_type": "code",
   "execution_count": null,
   "metadata": {},
   "outputs": [],
   "source": [
    "bed_df <- read.table('~/github_reproducibility/TF_sensitive_peaks/liftover/liftover_to_hg19_TF_sensitive_peaks_new_definition.bed', header = FALSE, stringsAsFactors = FALSE)\n",
    "\n",
    "granges_object <- GRanges(seqnames=bed_df$V1,\n",
    "                          ranges=IRanges(start=bed_df$V2, end=bed_df$V3))\n",
    "\n",
    "print(granges_object)"
   ]
  },
  {
   "cell_type": "markdown",
   "metadata": {},
   "source": [
    "The following code is slightly adapted from the github repo scLDSC/code/bed2annotate.R"
   ]
  },
  {
   "cell_type": "code",
   "execution_count": null,
   "metadata": {},
   "outputs": [],
   "source": [
    "library(GenomicRanges)\n",
    "library(data.table)\n",
    "\n",
    "BiocParallel::register(BiocParallel::MulticoreParam(2, progressbar = FALSE))\n",
    "\n",
    "makeAnnotFileFromBed <- function(chr, bedfile, outname = NULL, gzipIn = TRUE){\n",
    "\n",
    "  if(is.null(outname) & gzipIn) outname <- gsub('.{7}$', '',basename(bedfile))\n",
    "  if(is.null(outname) & !gzipIn) outname <- gsub('.{3}$', '',basename(bedfile))\n",
    "  \n",
    "  rawfile <- paste0(\"/home/jupyter/utilities/scLDSC/raw.annot/raw.\", as.character(chr), \".annot.gz\") \n",
    "  print(head(rawfile))\n",
    "df <- data.frame(fread(input = paste0('zcat < ', rawfile)))\n",
    "  gdf <- makeGRangesFromDataFrame(data.frame(chr = df$CHR, start = df$BP, end = df$BP))\n",
    "  print(gdf)\n",
    "  if(gzipIn){  beddf <- data.frame(fread(input =  bedfile))\n",
    "  } else {  beddf <- data.frame(fread(input = paste0('', bedfile))) } \n",
    "  gbed <- makeGRangesFromDataFrame(data.frame(chr = beddf$V1, start = beddf$V2, end = beddf$V3))\n",
    "    print(gbed)\n",
    "    gdf_no_chr=gdf\n",
    "seqlevels(gdf_no_chr) <- sub(\"chr\", \"\", seqlevels(gdf))\n",
    "    \n",
    "        gbed_no_chr=gbed\n",
    "seqlevels(gbed_no_chr) <- sub(\"chr\", \"\", seqlevels(gbed))\n",
    "\n",
    "  boo <- as.numeric(1:length(gdf) %in% queryHits(findOverlaps(gdf_no_chr, gbed_no_chr)))\n",
    "  \n",
    "  dat <- data.frame(df, boo)\n",
    "  names(dat) <- c(colnames(df), outname)\n",
    "\n",
    "  gz1 <- gzfile(paste0(\"/home/jupyter/github_reproducibility/TF_sensitive_peaks/custom_annot\", as.character(chr), \".annot.gz\"), \"w\")\n",
    "  write.table(dat, file = gz1, row.names = FALSE, col.names = TRUE, sep = \" \", quote = FALSE)\n",
    "  close(gz1)\n",
    "  return(chr)\n",
    "}\n",
    "\n",
    "baselineBeds <- list.files(\"/home/jupyter/github_reproducibility/TF_sensitive_peaks/liftover\", full.names = TRUE)\n",
    "baselineBeds\n",
    "sapply(baselineBeds[1], function(bedfile){\n",
    "  sapply(1:22, function(i){\n",
    "    makeAnnotFileFromBed(i, bedfile)\n",
    "    paste0(bedfile, \"_\", as.character(i))\n",
    "  })\n",
    "})"
   ]
  },
  {
   "cell_type": "markdown",
   "metadata": {},
   "source": [
    "Remove the base annotation to avoid errors in the next step"
   ]
  },
  {
   "cell_type": "code",
   "execution_count": null,
   "metadata": {},
   "outputs": [],
   "source": [
    "DEST_FOLDER=\"/home/jupyter/github_reproducibility/ldsc_analysis_TF_sensitive_peaks_NO_BASE\"\n",
    "\n",
    "mkdir -p \"$DEST_FOLDER\"\n",
    "\n",
    "folder3=\"/home/jupyter/github_reproducibility/TF_sensitive_peaks/\"\n",
    "\n",
    "cd $folder3\n",
    "\n",
    "for i in {1..22}; do\n",
    "    gzip -d -c custom_annot$i.annot.gz | awk '{for(j=1;j<=NF;j++) if(j!=5) printf(\"%s%s\",$j,(j==NF)?\"\\n\":OFS)}' | gzip > \"$DEST_FOLDER/custom_annot$i.annot.gz\"\n",
    "done"
   ]
  },
  {
   "cell_type": "markdown",
   "metadata": {},
   "source": [
    "Run WDL (WDL_LDSC)"
   ]
  }
 ],
 "metadata": {
  "kernelspec": {
   "display_name": "R",
   "language": "R",
   "name": "ir"
  },
  "language_info": {
   "codemirror_mode": "r",
   "file_extension": ".r",
   "mimetype": "text/x-r-source",
   "name": "R",
   "pygments_lexer": "r",
   "version": "4.3.2"
  },
  "toc": {
   "base_numbering": 1,
   "nav_menu": {},
   "number_sections": true,
   "sideBar": true,
   "skip_h1_title": false,
   "title_cell": "Table of Contents",
   "title_sidebar": "Contents",
   "toc_cell": false,
   "toc_position": {},
   "toc_section_display": true,
   "toc_window_display": false
  }
 },
 "nbformat": 4,
 "nbformat_minor": 2
}
